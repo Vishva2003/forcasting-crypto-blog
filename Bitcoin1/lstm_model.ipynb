{
 "cells": [
  {
   "cell_type": "code",
   "execution_count": 2,
   "metadata": {},
   "outputs": [],
   "source": [
    "import numpy as np\n",
    "from math import sqrt\n",
    "import matplotlib.pyplot as plt\n",
    "import pandas as pd\n",
    "from sklearn.preprocessing import MinMaxScaler\n",
    "from sklearn.metrics import mean_squared_error\n",
    "from tensorflow.keras import Sequential\n",
    "from tensorflow.keras.layers import Dense, LSTM, Dropout"
   ]
  },
  {
   "cell_type": "code",
   "execution_count": 3,
   "metadata": {},
   "outputs": [
    {
     "name": "stdout",
     "output_type": "stream",
     "text": [
      "            Date         Open         High          Low        Close  \\\n",
      "3061  20-05-2023  26888.84180  27155.15820  26843.27734  27129.58594   \n",
      "3062  21-05-2023  27118.42383  27265.91797  26706.92188  26753.82617   \n",
      "3063  22-05-2023  26749.89258  27045.73438  26549.73438  26851.27734   \n",
      "3064  23-05-2023  26855.96094  27434.68359  26816.17969  27225.72656   \n",
      "3065  24-05-2023  27219.15039  27220.08789  26696.73242  26696.73242   \n",
      "\n",
      "        Adj Close        Volume  \n",
      "3061  27129.58594  7.044911e+09  \n",
      "3062  26753.82617  8.647417e+09  \n",
      "3063  26851.27734  1.105677e+10  \n",
      "3064  27225.72656  1.369720e+10  \n",
      "3065  26696.73242  1.229097e+10  \n"
     ]
    }
   ],
   "source": [
    "\n",
    "data = pd.read_csv(r'C:\\Users\\Admin\\Desktop\\BTC-USD.csv')\n",
    "print(data.tail())"
   ]
  },
  {
   "cell_type": "code",
   "execution_count": 4,
   "metadata": {},
   "outputs": [
    {
     "data": {
      "text/html": [
       "<div>\n",
       "<style scoped>\n",
       "    .dataframe tbody tr th:only-of-type {\n",
       "        vertical-align: middle;\n",
       "    }\n",
       "\n",
       "    .dataframe tbody tr th {\n",
       "        vertical-align: top;\n",
       "    }\n",
       "\n",
       "    .dataframe thead th {\n",
       "        text-align: right;\n",
       "    }\n",
       "</style>\n",
       "<table border=\"1\" class=\"dataframe\">\n",
       "  <thead>\n",
       "    <tr style=\"text-align: right;\">\n",
       "      <th></th>\n",
       "      <th>Date</th>\n",
       "      <th>Open</th>\n",
       "      <th>High</th>\n",
       "      <th>Low</th>\n",
       "      <th>Close</th>\n",
       "      <th>Adj Close</th>\n",
       "      <th>Volume</th>\n",
       "    </tr>\n",
       "  </thead>\n",
       "  <tbody>\n",
       "    <tr>\n",
       "      <th>0</th>\n",
       "      <td>01-01-2015</td>\n",
       "      <td>320.434998</td>\n",
       "      <td>320.434998</td>\n",
       "      <td>314.002991</td>\n",
       "      <td>314.248993</td>\n",
       "      <td>314.248993</td>\n",
       "      <td>8.036550e+06</td>\n",
       "    </tr>\n",
       "    <tr>\n",
       "      <th>1</th>\n",
       "      <td>02-01-2015</td>\n",
       "      <td>314.079010</td>\n",
       "      <td>315.838989</td>\n",
       "      <td>313.565002</td>\n",
       "      <td>315.032013</td>\n",
       "      <td>315.032013</td>\n",
       "      <td>7.860650e+06</td>\n",
       "    </tr>\n",
       "    <tr>\n",
       "      <th>2</th>\n",
       "      <td>03-01-2015</td>\n",
       "      <td>314.846008</td>\n",
       "      <td>315.149994</td>\n",
       "      <td>281.082001</td>\n",
       "      <td>281.082001</td>\n",
       "      <td>281.082001</td>\n",
       "      <td>3.305440e+07</td>\n",
       "    </tr>\n",
       "    <tr>\n",
       "      <th>3</th>\n",
       "      <td>04-01-2015</td>\n",
       "      <td>281.145996</td>\n",
       "      <td>287.230011</td>\n",
       "      <td>257.612000</td>\n",
       "      <td>264.195007</td>\n",
       "      <td>264.195007</td>\n",
       "      <td>5.562910e+07</td>\n",
       "    </tr>\n",
       "    <tr>\n",
       "      <th>4</th>\n",
       "      <td>05-01-2015</td>\n",
       "      <td>265.084015</td>\n",
       "      <td>278.341003</td>\n",
       "      <td>265.084015</td>\n",
       "      <td>274.473999</td>\n",
       "      <td>274.473999</td>\n",
       "      <td>4.396280e+07</td>\n",
       "    </tr>\n",
       "    <tr>\n",
       "      <th>...</th>\n",
       "      <td>...</td>\n",
       "      <td>...</td>\n",
       "      <td>...</td>\n",
       "      <td>...</td>\n",
       "      <td>...</td>\n",
       "      <td>...</td>\n",
       "      <td>...</td>\n",
       "    </tr>\n",
       "    <tr>\n",
       "      <th>3057</th>\n",
       "      <td>16-05-2023</td>\n",
       "      <td>27171.513670</td>\n",
       "      <td>27299.304690</td>\n",
       "      <td>26878.947270</td>\n",
       "      <td>27036.650390</td>\n",
       "      <td>27036.650390</td>\n",
       "      <td>1.273224e+10</td>\n",
       "    </tr>\n",
       "    <tr>\n",
       "      <th>3058</th>\n",
       "      <td>17-05-2023</td>\n",
       "      <td>27035.470700</td>\n",
       "      <td>27465.927730</td>\n",
       "      <td>26600.144530</td>\n",
       "      <td>27398.802730</td>\n",
       "      <td>27398.802730</td>\n",
       "      <td>1.514001e+10</td>\n",
       "    </tr>\n",
       "    <tr>\n",
       "      <th>3059</th>\n",
       "      <td>18-05-2023</td>\n",
       "      <td>27401.650390</td>\n",
       "      <td>27466.527340</td>\n",
       "      <td>26415.101560</td>\n",
       "      <td>26832.208980</td>\n",
       "      <td>26832.208980</td>\n",
       "      <td>1.522294e+10</td>\n",
       "    </tr>\n",
       "    <tr>\n",
       "      <th>3060</th>\n",
       "      <td>19-05-2023</td>\n",
       "      <td>26826.753910</td>\n",
       "      <td>27128.619140</td>\n",
       "      <td>26700.210940</td>\n",
       "      <td>26890.128910</td>\n",
       "      <td>26890.128910</td>\n",
       "      <td>1.125898e+10</td>\n",
       "    </tr>\n",
       "    <tr>\n",
       "      <th>3061</th>\n",
       "      <td>20-05-2023</td>\n",
       "      <td>26888.841800</td>\n",
       "      <td>27155.158200</td>\n",
       "      <td>26843.277340</td>\n",
       "      <td>27129.585940</td>\n",
       "      <td>27129.585940</td>\n",
       "      <td>7.044911e+09</td>\n",
       "    </tr>\n",
       "  </tbody>\n",
       "</table>\n",
       "<p>2020 rows × 7 columns</p>\n",
       "</div>"
      ],
      "text/plain": [
       "            Date          Open          High           Low         Close  \\\n",
       "0     01-01-2015    320.434998    320.434998    314.002991    314.248993   \n",
       "1     02-01-2015    314.079010    315.838989    313.565002    315.032013   \n",
       "2     03-01-2015    314.846008    315.149994    281.082001    281.082001   \n",
       "3     04-01-2015    281.145996    287.230011    257.612000    264.195007   \n",
       "4     05-01-2015    265.084015    278.341003    265.084015    274.473999   \n",
       "...          ...           ...           ...           ...           ...   \n",
       "3057  16-05-2023  27171.513670  27299.304690  26878.947270  27036.650390   \n",
       "3058  17-05-2023  27035.470700  27465.927730  26600.144530  27398.802730   \n",
       "3059  18-05-2023  27401.650390  27466.527340  26415.101560  26832.208980   \n",
       "3060  19-05-2023  26826.753910  27128.619140  26700.210940  26890.128910   \n",
       "3061  20-05-2023  26888.841800  27155.158200  26843.277340  27129.585940   \n",
       "\n",
       "         Adj Close        Volume  \n",
       "0       314.248993  8.036550e+06  \n",
       "1       315.032013  7.860650e+06  \n",
       "2       281.082001  3.305440e+07  \n",
       "3       264.195007  5.562910e+07  \n",
       "4       274.473999  4.396280e+07  \n",
       "...            ...           ...  \n",
       "3057  27036.650390  1.273224e+10  \n",
       "3058  27398.802730  1.514001e+10  \n",
       "3059  26832.208980  1.522294e+10  \n",
       "3060  26890.128910  1.125898e+10  \n",
       "3061  27129.585940  7.044911e+09  \n",
       "\n",
       "[2020 rows x 7 columns]"
      ]
     },
     "execution_count": 4,
     "metadata": {},
     "output_type": "execute_result"
    }
   ],
   "source": [
    "data_training = data[data['Date']< '2023-05-25'].copy()\n",
    "data_training"
   ]
  },
  {
   "cell_type": "code",
   "execution_count": 5,
   "metadata": {},
   "outputs": [
    {
     "data": {
      "text/html": [
       "<div>\n",
       "<style scoped>\n",
       "    .dataframe tbody tr th:only-of-type {\n",
       "        vertical-align: middle;\n",
       "    }\n",
       "\n",
       "    .dataframe tbody tr th {\n",
       "        vertical-align: top;\n",
       "    }\n",
       "\n",
       "    .dataframe thead th {\n",
       "        text-align: right;\n",
       "    }\n",
       "</style>\n",
       "<table border=\"1\" class=\"dataframe\">\n",
       "  <thead>\n",
       "    <tr style=\"text-align: right;\">\n",
       "      <th></th>\n",
       "      <th>Date</th>\n",
       "      <th>Open</th>\n",
       "      <th>High</th>\n",
       "      <th>Low</th>\n",
       "      <th>Close</th>\n",
       "      <th>Adj Close</th>\n",
       "      <th>Volume</th>\n",
       "    </tr>\n",
       "  </thead>\n",
       "  <tbody>\n",
       "    <tr>\n",
       "      <th>0</th>\n",
       "      <td>01-01-2015</td>\n",
       "      <td>320.434998</td>\n",
       "      <td>320.434998</td>\n",
       "      <td>314.002991</td>\n",
       "      <td>314.248993</td>\n",
       "      <td>314.248993</td>\n",
       "      <td>8.036550e+06</td>\n",
       "    </tr>\n",
       "    <tr>\n",
       "      <th>1</th>\n",
       "      <td>02-01-2015</td>\n",
       "      <td>314.079010</td>\n",
       "      <td>315.838989</td>\n",
       "      <td>313.565002</td>\n",
       "      <td>315.032013</td>\n",
       "      <td>315.032013</td>\n",
       "      <td>7.860650e+06</td>\n",
       "    </tr>\n",
       "    <tr>\n",
       "      <th>2</th>\n",
       "      <td>03-01-2015</td>\n",
       "      <td>314.846008</td>\n",
       "      <td>315.149994</td>\n",
       "      <td>281.082001</td>\n",
       "      <td>281.082001</td>\n",
       "      <td>281.082001</td>\n",
       "      <td>3.305440e+07</td>\n",
       "    </tr>\n",
       "    <tr>\n",
       "      <th>3</th>\n",
       "      <td>04-01-2015</td>\n",
       "      <td>281.145996</td>\n",
       "      <td>287.230011</td>\n",
       "      <td>257.612000</td>\n",
       "      <td>264.195007</td>\n",
       "      <td>264.195007</td>\n",
       "      <td>5.562910e+07</td>\n",
       "    </tr>\n",
       "    <tr>\n",
       "      <th>4</th>\n",
       "      <td>05-01-2015</td>\n",
       "      <td>265.084015</td>\n",
       "      <td>278.341003</td>\n",
       "      <td>265.084015</td>\n",
       "      <td>274.473999</td>\n",
       "      <td>274.473999</td>\n",
       "      <td>4.396280e+07</td>\n",
       "    </tr>\n",
       "    <tr>\n",
       "      <th>...</th>\n",
       "      <td>...</td>\n",
       "      <td>...</td>\n",
       "      <td>...</td>\n",
       "      <td>...</td>\n",
       "      <td>...</td>\n",
       "      <td>...</td>\n",
       "      <td>...</td>\n",
       "    </tr>\n",
       "    <tr>\n",
       "      <th>3057</th>\n",
       "      <td>16-05-2023</td>\n",
       "      <td>27171.513670</td>\n",
       "      <td>27299.304690</td>\n",
       "      <td>26878.947270</td>\n",
       "      <td>27036.650390</td>\n",
       "      <td>27036.650390</td>\n",
       "      <td>1.273224e+10</td>\n",
       "    </tr>\n",
       "    <tr>\n",
       "      <th>3058</th>\n",
       "      <td>17-05-2023</td>\n",
       "      <td>27035.470700</td>\n",
       "      <td>27465.927730</td>\n",
       "      <td>26600.144530</td>\n",
       "      <td>27398.802730</td>\n",
       "      <td>27398.802730</td>\n",
       "      <td>1.514001e+10</td>\n",
       "    </tr>\n",
       "    <tr>\n",
       "      <th>3059</th>\n",
       "      <td>18-05-2023</td>\n",
       "      <td>27401.650390</td>\n",
       "      <td>27466.527340</td>\n",
       "      <td>26415.101560</td>\n",
       "      <td>26832.208980</td>\n",
       "      <td>26832.208980</td>\n",
       "      <td>1.522294e+10</td>\n",
       "    </tr>\n",
       "    <tr>\n",
       "      <th>3060</th>\n",
       "      <td>19-05-2023</td>\n",
       "      <td>26826.753910</td>\n",
       "      <td>27128.619140</td>\n",
       "      <td>26700.210940</td>\n",
       "      <td>26890.128910</td>\n",
       "      <td>26890.128910</td>\n",
       "      <td>1.125898e+10</td>\n",
       "    </tr>\n",
       "    <tr>\n",
       "      <th>3061</th>\n",
       "      <td>20-05-2023</td>\n",
       "      <td>26888.841800</td>\n",
       "      <td>27155.158200</td>\n",
       "      <td>26843.277340</td>\n",
       "      <td>27129.585940</td>\n",
       "      <td>27129.585940</td>\n",
       "      <td>7.044911e+09</td>\n",
       "    </tr>\n",
       "  </tbody>\n",
       "</table>\n",
       "<p>2020 rows × 7 columns</p>\n",
       "</div>"
      ],
      "text/plain": [
       "            Date          Open          High           Low         Close  \\\n",
       "0     01-01-2015    320.434998    320.434998    314.002991    314.248993   \n",
       "1     02-01-2015    314.079010    315.838989    313.565002    315.032013   \n",
       "2     03-01-2015    314.846008    315.149994    281.082001    281.082001   \n",
       "3     04-01-2015    281.145996    287.230011    257.612000    264.195007   \n",
       "4     05-01-2015    265.084015    278.341003    265.084015    274.473999   \n",
       "...          ...           ...           ...           ...           ...   \n",
       "3057  16-05-2023  27171.513670  27299.304690  26878.947270  27036.650390   \n",
       "3058  17-05-2023  27035.470700  27465.927730  26600.144530  27398.802730   \n",
       "3059  18-05-2023  27401.650390  27466.527340  26415.101560  26832.208980   \n",
       "3060  19-05-2023  26826.753910  27128.619140  26700.210940  26890.128910   \n",
       "3061  20-05-2023  26888.841800  27155.158200  26843.277340  27129.585940   \n",
       "\n",
       "         Adj Close        Volume  \n",
       "0       314.248993  8.036550e+06  \n",
       "1       315.032013  7.860650e+06  \n",
       "2       281.082001  3.305440e+07  \n",
       "3       264.195007  5.562910e+07  \n",
       "4       274.473999  4.396280e+07  \n",
       "...            ...           ...  \n",
       "3057  27036.650390  1.273224e+10  \n",
       "3058  27398.802730  1.514001e+10  \n",
       "3059  26832.208980  1.522294e+10  \n",
       "3060  26890.128910  1.125898e+10  \n",
       "3061  27129.585940  7.044911e+09  \n",
       "\n",
       "[2020 rows x 7 columns]"
      ]
     },
     "execution_count": 5,
     "metadata": {},
     "output_type": "execute_result"
    }
   ],
   "source": [
    "data_test = data[data['Date']< '2023-05-25'].copy()\n",
    "data_test"
   ]
  },
  {
   "cell_type": "code",
   "execution_count": 6,
   "metadata": {},
   "outputs": [
    {
     "data": {
      "text/html": [
       "<div>\n",
       "<style scoped>\n",
       "    .dataframe tbody tr th:only-of-type {\n",
       "        vertical-align: middle;\n",
       "    }\n",
       "\n",
       "    .dataframe tbody tr th {\n",
       "        vertical-align: top;\n",
       "    }\n",
       "\n",
       "    .dataframe thead th {\n",
       "        text-align: right;\n",
       "    }\n",
       "</style>\n",
       "<table border=\"1\" class=\"dataframe\">\n",
       "  <thead>\n",
       "    <tr style=\"text-align: right;\">\n",
       "      <th></th>\n",
       "      <th>Open</th>\n",
       "      <th>High</th>\n",
       "      <th>Low</th>\n",
       "      <th>Close</th>\n",
       "      <th>Volume</th>\n",
       "    </tr>\n",
       "  </thead>\n",
       "  <tbody>\n",
       "    <tr>\n",
       "      <th>0</th>\n",
       "      <td>320.434998</td>\n",
       "      <td>320.434998</td>\n",
       "      <td>314.002991</td>\n",
       "      <td>314.248993</td>\n",
       "      <td>8036550.0</td>\n",
       "    </tr>\n",
       "    <tr>\n",
       "      <th>1</th>\n",
       "      <td>314.079010</td>\n",
       "      <td>315.838989</td>\n",
       "      <td>313.565002</td>\n",
       "      <td>315.032013</td>\n",
       "      <td>7860650.0</td>\n",
       "    </tr>\n",
       "    <tr>\n",
       "      <th>2</th>\n",
       "      <td>314.846008</td>\n",
       "      <td>315.149994</td>\n",
       "      <td>281.082001</td>\n",
       "      <td>281.082001</td>\n",
       "      <td>33054400.0</td>\n",
       "    </tr>\n",
       "    <tr>\n",
       "      <th>3</th>\n",
       "      <td>281.145996</td>\n",
       "      <td>287.230011</td>\n",
       "      <td>257.612000</td>\n",
       "      <td>264.195007</td>\n",
       "      <td>55629100.0</td>\n",
       "    </tr>\n",
       "    <tr>\n",
       "      <th>4</th>\n",
       "      <td>265.084015</td>\n",
       "      <td>278.341003</td>\n",
       "      <td>265.084015</td>\n",
       "      <td>274.473999</td>\n",
       "      <td>43962800.0</td>\n",
       "    </tr>\n",
       "  </tbody>\n",
       "</table>\n",
       "</div>"
      ],
      "text/plain": [
       "         Open        High         Low       Close      Volume\n",
       "0  320.434998  320.434998  314.002991  314.248993   8036550.0\n",
       "1  314.079010  315.838989  313.565002  315.032013   7860650.0\n",
       "2  314.846008  315.149994  281.082001  281.082001  33054400.0\n",
       "3  281.145996  287.230011  257.612000  264.195007  55629100.0\n",
       "4  265.084015  278.341003  265.084015  274.473999  43962800.0"
      ]
     },
     "execution_count": 6,
     "metadata": {},
     "output_type": "execute_result"
    }
   ],
   "source": [
    "training_data = data_training.drop(['Date', 'Adj Close'], axis = 1)\n",
    "training_data.head()"
   ]
  },
  {
   "cell_type": "code",
   "execution_count": 7,
   "metadata": {},
   "outputs": [
    {
     "data": {
      "text/plain": [
       "array([[2.13050245e-03, 1.58511714e-03, 2.15211912e-03, 2.02030823e-03,\n",
       "        1.39611884e-06],\n",
       "       [2.03616194e-03, 1.51809832e-03, 2.14550403e-03, 2.03192768e-03,\n",
       "        0.00000000e+00],\n",
       "       [2.04754632e-03, 1.50805143e-03, 1.65490246e-03, 1.52813403e-03,\n",
       "        1.99962872e-04],\n",
       "       ...,\n",
       "       [4.04090943e-01, 3.97428307e-01, 3.96365694e-01, 3.95527678e-01,\n",
       "        1.20762121e-01],\n",
       "       [3.95557883e-01, 3.92500944e-01, 4.00671795e-01, 3.96387168e-01,\n",
       "        8.93001953e-02],\n",
       "       [3.96479439e-01, 3.92887936e-01, 4.02832575e-01, 3.99940537e-01,\n",
       "        5.58530933e-02]])"
      ]
     },
     "execution_count": 7,
     "metadata": {},
     "output_type": "execute_result"
    }
   ],
   "source": [
    "scaler = MinMaxScaler()\n",
    "training_data = scaler.fit_transform(training_data)\n",
    "training_data"
   ]
  },
  {
   "cell_type": "code",
   "execution_count": 8,
   "metadata": {},
   "outputs": [
    {
     "data": {
      "text/plain": [
       "(1960, 60, 5)"
      ]
     },
     "execution_count": 8,
     "metadata": {},
     "output_type": "execute_result"
    }
   ],
   "source": [
    "X_train = [] \n",
    "Y_train = []\n",
    "training_data.shape[0]\n",
    "for i in range(60, training_data.shape[0]):\n",
    " X_train.append(training_data[i-60:i])\n",
    " Y_train.append(training_data[i,0])\n",
    "X_train, Y_train = np.array(X_train), np.array(Y_train)\n",
    "X_train.shape"
   ]
  },
  {
   "attachments": {},
   "cell_type": "markdown",
   "metadata": {},
   "source": [
    "Building RNN using LSTM"
   ]
  },
  {
   "cell_type": "code",
   "execution_count": 9,
   "metadata": {},
   "outputs": [],
   "source": [
    "model = Sequential() \n",
    "model.add(LSTM(units = 50, activation = 'relu', return_sequences = True, input_shape = (X_train.shape[1], 5)))\n"
   ]
  },
  {
   "cell_type": "code",
   "execution_count": 10,
   "metadata": {},
   "outputs": [],
   "source": [
    "model.add(Dropout(0.2)) \n",
    "model.add(LSTM(units = 60, activation = 'relu', return_sequences = True))\n"
   ]
  },
  {
   "cell_type": "code",
   "execution_count": 11,
   "metadata": {},
   "outputs": [],
   "source": [
    "model.add(Dropout(0.3)) \n",
    "model.add(LSTM(units = 80, activation = 'relu', return_sequences = True))\n"
   ]
  },
  {
   "cell_type": "code",
   "execution_count": 12,
   "metadata": {},
   "outputs": [
    {
     "name": "stdout",
     "output_type": "stream",
     "text": [
      "Model: \"sequential\"\n",
      "_________________________________________________________________\n",
      " Layer (type)                Output Shape              Param #   \n",
      "=================================================================\n",
      " lstm (LSTM)                 (None, 60, 50)            11200     \n",
      "                                                                 \n",
      " dropout (Dropout)           (None, 60, 50)            0         \n",
      "                                                                 \n",
      " lstm_1 (LSTM)               (None, 60, 60)            26640     \n",
      "                                                                 \n",
      " dropout_1 (Dropout)         (None, 60, 60)            0         \n",
      "                                                                 \n",
      " lstm_2 (LSTM)               (None, 60, 80)            45120     \n",
      "                                                                 \n",
      " dropout_2 (Dropout)         (None, 60, 80)            0         \n",
      "                                                                 \n",
      " lstm_3 (LSTM)               (None, 120)               96480     \n",
      "                                                                 \n",
      " dropout_3 (Dropout)         (None, 120)               0         \n",
      "                                                                 \n",
      " dense (Dense)               (None, 1)                 121       \n",
      "                                                                 \n",
      "=================================================================\n",
      "Total params: 179,561\n",
      "Trainable params: 179,561\n",
      "Non-trainable params: 0\n",
      "_________________________________________________________________\n"
     ]
    }
   ],
   "source": [
    "model.add(Dropout(0.4)) \n",
    "model.add(LSTM(units = 120, activation = 'relu'))\n",
    "model.add(Dropout(0.5)) \n",
    "model.add(Dense(units =1))\n",
    "model.summary()"
   ]
  },
  {
   "cell_type": "code",
   "execution_count": 13,
   "metadata": {},
   "outputs": [
    {
     "name": "stdout",
     "output_type": "stream",
     "text": [
      "Epoch 1/40\n",
      "18/18 [==============================] - 7s 227ms/step - loss: 0.0467 - val_loss: 0.0096\n",
      "Epoch 2/40\n",
      "18/18 [==============================] - 4s 201ms/step - loss: 0.0092 - val_loss: 0.0086\n",
      "Epoch 3/40\n",
      "18/18 [==============================] - 4s 204ms/step - loss: 0.0075 - val_loss: 0.0015\n",
      "Epoch 4/40\n",
      "18/18 [==============================] - 4s 206ms/step - loss: 0.0063 - val_loss: 0.0015\n",
      "Epoch 5/40\n",
      "18/18 [==============================] - 4s 204ms/step - loss: 0.0052 - val_loss: 0.0015\n",
      "Epoch 6/40\n",
      "18/18 [==============================] - 4s 210ms/step - loss: 0.0056 - val_loss: 0.0034\n",
      "Epoch 7/40\n",
      "18/18 [==============================] - 4s 204ms/step - loss: 0.0050 - val_loss: 0.0015\n",
      "Epoch 8/40\n",
      "18/18 [==============================] - 4s 203ms/step - loss: 0.0045 - val_loss: 0.0012\n",
      "Epoch 9/40\n",
      "18/18 [==============================] - 4s 204ms/step - loss: 0.0044 - val_loss: 0.0012\n",
      "Epoch 10/40\n",
      "18/18 [==============================] - 4s 205ms/step - loss: 0.0041 - val_loss: 0.0013\n",
      "Epoch 11/40\n",
      "18/18 [==============================] - 4s 204ms/step - loss: 0.0046 - val_loss: 0.0035\n",
      "Epoch 12/40\n",
      "18/18 [==============================] - 4s 215ms/step - loss: 0.0036 - val_loss: 0.0022\n",
      "Epoch 13/40\n",
      "18/18 [==============================] - 4s 207ms/step - loss: 0.0041 - val_loss: 0.0017\n",
      "Epoch 14/40\n",
      "18/18 [==============================] - 4s 211ms/step - loss: 0.0037 - val_loss: 9.1393e-04\n",
      "Epoch 15/40\n",
      "18/18 [==============================] - 4s 207ms/step - loss: 0.0034 - val_loss: 9.0653e-04\n",
      "Epoch 16/40\n",
      "18/18 [==============================] - 4s 212ms/step - loss: 0.0031 - val_loss: 9.7616e-04\n",
      "Epoch 17/40\n",
      "18/18 [==============================] - 4s 214ms/step - loss: 0.0036 - val_loss: 9.8125e-04\n",
      "Epoch 18/40\n",
      "18/18 [==============================] - 4s 214ms/step - loss: 0.0040 - val_loss: 0.0027\n",
      "Epoch 19/40\n",
      "18/18 [==============================] - 4s 213ms/step - loss: 0.0032 - val_loss: 0.0012\n",
      "Epoch 20/40\n",
      "18/18 [==============================] - 4s 205ms/step - loss: 0.0035 - val_loss: 9.3083e-04\n",
      "Epoch 21/40\n",
      "18/18 [==============================] - 4s 211ms/step - loss: 0.0036 - val_loss: 0.0014\n",
      "Epoch 22/40\n",
      "18/18 [==============================] - 4s 201ms/step - loss: 0.0040 - val_loss: 9.8282e-04\n",
      "Epoch 23/40\n",
      "18/18 [==============================] - 4s 209ms/step - loss: 0.0033 - val_loss: 0.0026\n",
      "Epoch 24/40\n",
      "18/18 [==============================] - 4s 209ms/step - loss: 0.0035 - val_loss: 0.0021\n",
      "Epoch 25/40\n",
      "18/18 [==============================] - 4s 203ms/step - loss: 0.0035 - val_loss: 0.0022\n",
      "Epoch 26/40\n",
      "18/18 [==============================] - 4s 204ms/step - loss: 0.0036 - val_loss: 7.7780e-04\n",
      "Epoch 27/40\n",
      "18/18 [==============================] - 4s 205ms/step - loss: 0.0036 - val_loss: 0.0020\n",
      "Epoch 28/40\n",
      "18/18 [==============================] - 4s 209ms/step - loss: 0.0035 - val_loss: 0.0019\n",
      "Epoch 29/40\n",
      "18/18 [==============================] - 4s 202ms/step - loss: 0.0031 - val_loss: 0.0013\n",
      "Epoch 30/40\n",
      "18/18 [==============================] - 4s 202ms/step - loss: 0.0036 - val_loss: 8.7147e-04\n",
      "Epoch 31/40\n",
      "18/18 [==============================] - 4s 201ms/step - loss: 0.0028 - val_loss: 0.0028\n",
      "Epoch 32/40\n",
      "18/18 [==============================] - 4s 204ms/step - loss: 0.0032 - val_loss: 0.0021\n",
      "Epoch 33/40\n",
      "18/18 [==============================] - 4s 211ms/step - loss: 0.0032 - val_loss: 9.9621e-04\n",
      "Epoch 34/40\n",
      "18/18 [==============================] - 4s 209ms/step - loss: 0.0031 - val_loss: 0.0024\n",
      "Epoch 35/40\n",
      "18/18 [==============================] - 4s 202ms/step - loss: 0.0030 - val_loss: 0.0022\n",
      "Epoch 36/40\n",
      "18/18 [==============================] - 4s 203ms/step - loss: 0.0035 - val_loss: 0.0034\n",
      "Epoch 37/40\n",
      "18/18 [==============================] - 4s 203ms/step - loss: 0.0032 - val_loss: 0.0014\n",
      "Epoch 38/40\n",
      "18/18 [==============================] - 4s 204ms/step - loss: 0.0035 - val_loss: 0.0014\n",
      "Epoch 39/40\n",
      "18/18 [==============================] - 4s 209ms/step - loss: 0.0031 - val_loss: 7.7662e-04\n",
      "Epoch 40/40\n",
      "18/18 [==============================] - 4s 207ms/step - loss: 0.0030 - val_loss: 9.4942e-04\n"
     ]
    }
   ],
   "source": [
    "model.compile(optimizer = 'adam', loss = 'mean_squared_error')\n",
    "history= model.fit(X_train, Y_train, epochs = 40, batch_size =100, validation_split=0.1)\n"
   ]
  },
  {
   "cell_type": "code",
   "execution_count": 14,
   "metadata": {},
   "outputs": [
    {
     "data": {
      "image/png": "[encoded data removed]",
      "text/plain": [
       "<Figure size 640x480 with 1 Axes>"
      ]
     },
     "metadata": {},
     "output_type": "display_data"
    }
   ],
   "source": [
    "loss = history.history['loss']\n",
    "val_loss = history.history['val_loss']\n",
    "epochs = range(len(loss))\n",
    "plt.figure()\n",
    "plt.plot(epochs, loss, 'b', label='Training loss')\n",
    "plt.plot(epochs, val_loss, 'r', label='Validation loss')\n",
    "plt.title(\"Training and Validation Loss\")\n",
    "plt.legend()\n",
    "plt.show()"
   ]
  },
  {
   "cell_type": "code",
   "execution_count": 15,
   "metadata": {},
   "outputs": [
    {
     "name": "stderr",
     "output_type": "stream",
     "text": [
      "C:\\Users\\Admin\\AppData\\Local\\Temp\\ipykernel_18220\\4162481076.py:2: FutureWarning: The frame.append method is deprecated and will be removed from pandas in a future version. Use pandas.concat instead.\n",
      "  df= part_60_days.append(data_test, ignore_index = True)\n"
     ]
    },
    {
     "data": {
      "text/html": [
       "<div>\n",
       "<style scoped>\n",
       "    .dataframe tbody tr th:only-of-type {\n",
       "        vertical-align: middle;\n",
       "    }\n",
       "\n",
       "    .dataframe tbody tr th {\n",
       "        vertical-align: top;\n",
       "    }\n",
       "\n",
       "    .dataframe thead th {\n",
       "        text-align: right;\n",
       "    }\n",
       "</style>\n",
       "<table border=\"1\" class=\"dataframe\">\n",
       "  <thead>\n",
       "    <tr style=\"text-align: right;\">\n",
       "      <th></th>\n",
       "      <th>Open</th>\n",
       "      <th>High</th>\n",
       "      <th>Low</th>\n",
       "      <th>Close</th>\n",
       "      <th>Volume</th>\n",
       "    </tr>\n",
       "  </thead>\n",
       "  <tbody>\n",
       "    <tr>\n",
       "      <th>0</th>\n",
       "      <td>23150.92969</td>\n",
       "      <td>23880.63281</td>\n",
       "      <td>23088.62695</td>\n",
       "      <td>23646.55078</td>\n",
       "      <td>2.466284e+10</td>\n",
       "    </tr>\n",
       "    <tr>\n",
       "      <th>1</th>\n",
       "      <td>23647.01953</td>\n",
       "      <td>23739.13867</td>\n",
       "      <td>23245.02148</td>\n",
       "      <td>23475.46680</td>\n",
       "      <td>2.038640e+10</td>\n",
       "    </tr>\n",
       "    <tr>\n",
       "      <th>2</th>\n",
       "      <td>23476.63281</td>\n",
       "      <td>23479.34766</td>\n",
       "      <td>22213.23828</td>\n",
       "      <td>22362.67969</td>\n",
       "      <td>2.606240e+10</td>\n",
       "    </tr>\n",
       "    <tr>\n",
       "      <th>3</th>\n",
       "      <td>22362.92383</td>\n",
       "      <td>22405.17773</td>\n",
       "      <td>22198.98047</td>\n",
       "      <td>22353.34961</td>\n",
       "      <td>1.116601e+10</td>\n",
       "    </tr>\n",
       "    <tr>\n",
       "      <th>4</th>\n",
       "      <td>22354.14453</td>\n",
       "      <td>22613.68555</td>\n",
       "      <td>22307.14258</td>\n",
       "      <td>22435.51367</td>\n",
       "      <td>1.331700e+10</td>\n",
       "    </tr>\n",
       "  </tbody>\n",
       "</table>\n",
       "</div>"
      ],
      "text/plain": [
       "          Open         High          Low        Close        Volume\n",
       "0  23150.92969  23880.63281  23088.62695  23646.55078  2.466284e+10\n",
       "1  23647.01953  23739.13867  23245.02148  23475.46680  2.038640e+10\n",
       "2  23476.63281  23479.34766  22213.23828  22362.67969  2.606240e+10\n",
       "3  22362.92383  22405.17773  22198.98047  22353.34961  1.116601e+10\n",
       "4  22354.14453  22613.68555  22307.14258  22435.51367  1.331700e+10"
      ]
     },
     "execution_count": 15,
     "metadata": {},
     "output_type": "execute_result"
    }
   ],
   "source": [
    "part_60_days = data_training.tail(60)\n",
    "df= part_60_days.append(data_test, ignore_index = True)\n",
    "df = df.drop(['Date', 'Adj Close'], axis = 1)\n",
    "df.head()"
   ]
  },
  {
   "cell_type": "code",
   "execution_count": 16,
   "metadata": {},
   "outputs": [
    {
     "data": {
      "text/plain": [
       "array([[0.34099844, 0.34513894, 0.34612484, 0.34825481, 0.19568666],\n",
       "       [0.34836179, 0.34307568, 0.34848692, 0.34571605, 0.16174452],\n",
       "       [0.34583278, 0.33928742, 0.33290355, 0.32920309, 0.206795  ],\n",
       "       ...,\n",
       "       [0.40409094, 0.39742831, 0.39636569, 0.39552768, 0.12076212],\n",
       "       [0.39555788, 0.39250094, 0.4006718 , 0.39638717, 0.0893002 ],\n",
       "       [0.39647944, 0.39288794, 0.40283257, 0.39994054, 0.05585309]])"
      ]
     },
     "execution_count": 16,
     "metadata": {},
     "output_type": "execute_result"
    }
   ],
   "source": [
    "inputs = scaler.transform(df) \n",
    "inputs"
   ]
  },
  {
   "cell_type": "code",
   "execution_count": 17,
   "metadata": {},
   "outputs": [
    {
     "name": "stdout",
     "output_type": "stream",
     "text": [
      "64/64 [==============================] - 2s 21ms/step\n"
     ]
    },
    {
     "data": {
      "text/plain": [
       "(array([[0.3628203 ],\n",
       "        [0.3585226 ],\n",
       "        [0.34905967],\n",
       "        ...,\n",
       "        [0.36722314],\n",
       "        [0.36530834],\n",
       "        [0.36383307]], dtype=float32),\n",
       " array([0.0021305 , 0.00203616, 0.00204755, ..., 0.40409094, 0.39555788,\n",
       "        0.39647944]))"
      ]
     },
     "execution_count": 17,
     "metadata": {},
     "output_type": "execute_result"
    }
   ],
   "source": [
    "X_test = []\n",
    "Y_test = []\n",
    "for i in range (60, inputs.shape[0]):\n",
    "    X_test.append(inputs[i-60:i]) \n",
    "    Y_test.append(inputs[i, 0])\n",
    "X_test, Y_test = np.array(X_test), np.array(Y_test) \n",
    "X_test.shape, Y_test.shape\n",
    "Y_pred = model.predict(X_test) \n",
    "Y_pred, Y_test\n"
   ]
  },
  {
   "cell_type": "code",
   "execution_count": 18,
   "metadata": {},
   "outputs": [
    {
     "data": {
      "text/plain": [
       "array([1.48427770e-05, 1.45819584e-05, 1.51033327e-05, 1.48392776e-05,\n",
       "       7.93700310e-12])"
      ]
     },
     "execution_count": 18,
     "metadata": {},
     "output_type": "execute_result"
    }
   ],
   "source": [
    "scaler.scale_"
   ]
  },
  {
   "cell_type": "code",
   "execution_count": 19,
   "metadata": {},
   "outputs": [
    {
     "data": {
      "text/plain": [
       "array([[[3.40998444e-01, 3.45138942e-01, 3.46124841e-01, 3.48254812e-01,\n",
       "         1.95686657e-01],\n",
       "        [3.48361794e-01, 3.43075681e-01, 3.48486920e-01, 3.45716049e-01,\n",
       "         1.61744518e-01],\n",
       "        [3.45832782e-01, 3.39287419e-01, 3.32903555e-01, 3.29203092e-01,\n",
       "         2.06794996e-01],\n",
       "        ...,\n",
       "        [4.04090943e-01, 3.97428307e-01, 3.96365694e-01, 3.95527678e-01,\n",
       "         1.20762121e-01],\n",
       "        [3.95557883e-01, 3.92500944e-01, 4.00671795e-01, 3.96387168e-01,\n",
       "         8.93001953e-02],\n",
       "        [3.96479439e-01, 3.92887936e-01, 4.02832575e-01, 3.99940537e-01,\n",
       "         5.58530933e-02]],\n",
       "\n",
       "       [[3.48361794e-01, 3.43075681e-01, 3.48486920e-01, 3.45716049e-01,\n",
       "         1.61744518e-01],\n",
       "        [3.45832782e-01, 3.39287419e-01, 3.32903555e-01, 3.29203092e-01,\n",
       "         2.06794996e-01],\n",
       "        [3.29302248e-01, 3.23623918e-01, 3.32688214e-01, 3.29064641e-01,\n",
       "         8.85622890e-02],\n",
       "        ...,\n",
       "        [3.95557883e-01, 3.92500944e-01, 4.00671795e-01, 3.96387168e-01,\n",
       "         8.93001953e-02],\n",
       "        [3.96479439e-01, 3.92887936e-01, 4.02832575e-01, 3.99940537e-01,\n",
       "         5.58530933e-02],\n",
       "        [2.13050245e-03, 1.58511714e-03, 2.15211912e-03, 2.02030823e-03,\n",
       "         1.39611884e-06]],\n",
       "\n",
       "       [[3.45832782e-01, 3.39287419e-01, 3.32903555e-01, 3.29203092e-01,\n",
       "         2.06794996e-01],\n",
       "        [3.29302248e-01, 3.23623918e-01, 3.32688214e-01, 3.29064641e-01,\n",
       "         8.85622890e-02],\n",
       "        [3.29171939e-01, 3.26664370e-01, 3.34321823e-01, 3.30283896e-01,\n",
       "         1.05634694e-01],\n",
       "        ...,\n",
       "        [3.96479439e-01, 3.92887936e-01, 4.02832575e-01, 3.99940537e-01,\n",
       "         5.58530933e-02],\n",
       "        [2.13050245e-03, 1.58511714e-03, 2.15211912e-03, 2.02030823e-03,\n",
       "         1.39611884e-06],\n",
       "        [2.03616194e-03, 1.51809832e-03, 2.14550403e-03, 2.03192768e-03,\n",
       "         0.00000000e+00]],\n",
       "\n",
       "       ...,\n",
       "\n",
       "       [[3.61991580e-01, 3.58528142e-01, 3.66963605e-01, 3.63015835e-01,\n",
       "         1.55704686e-01],\n",
       "        [3.63100788e-01, 3.62818428e-01, 3.64838106e-01, 3.58361722e-01,\n",
       "         2.02768563e-01],\n",
       "        [3.58597426e-01, 3.61759840e-01, 3.58800814e-01, 3.65803707e-01,\n",
       "         2.30010508e-01],\n",
       "        ...,\n",
       "        [3.97110895e-01, 4.00050440e-01, 4.01666904e-01, 4.00877006e-01,\n",
       "         1.14335475e-01],\n",
       "        [4.00675075e-01, 3.94989874e-01, 4.03371310e-01, 3.98561441e-01,\n",
       "         1.00993429e-01],\n",
       "        [3.98655820e-01, 3.97419564e-01, 3.99160459e-01, 4.03935520e-01,\n",
       "         1.20103892e-01]],\n",
       "\n",
       "       [[3.63100788e-01, 3.62818428e-01, 3.64838106e-01, 3.58361722e-01,\n",
       "         2.02768563e-01],\n",
       "        [3.58597426e-01, 3.61759840e-01, 3.58800814e-01, 3.65803707e-01,\n",
       "         2.30010508e-01],\n",
       "        [3.40998444e-01, 3.45138942e-01, 3.46124841e-01, 3.48254812e-01,\n",
       "         1.95686657e-01],\n",
       "        ...,\n",
       "        [4.00675075e-01, 3.94989874e-01, 4.03371310e-01, 3.98561441e-01,\n",
       "         1.00993429e-01],\n",
       "        [3.98655820e-01, 3.97419564e-01, 3.99160459e-01, 4.03935520e-01,\n",
       "         1.20103892e-01],\n",
       "        [4.04090943e-01, 3.97428307e-01, 3.96365694e-01, 3.95527678e-01,\n",
       "         1.20762121e-01]],\n",
       "\n",
       "       [[3.58597426e-01, 3.61759840e-01, 3.58800814e-01, 3.65803707e-01,\n",
       "         2.30010508e-01],\n",
       "        [3.40998444e-01, 3.45138942e-01, 3.46124841e-01, 3.48254812e-01,\n",
       "         1.95686657e-01],\n",
       "        [3.48361794e-01, 3.43075681e-01, 3.48486920e-01, 3.45716049e-01,\n",
       "         1.61744518e-01],\n",
       "        ...,\n",
       "        [3.98655820e-01, 3.97419564e-01, 3.99160459e-01, 4.03935520e-01,\n",
       "         1.20103892e-01],\n",
       "        [4.04090943e-01, 3.97428307e-01, 3.96365694e-01, 3.95527678e-01,\n",
       "         1.20762121e-01],\n",
       "        [3.95557883e-01, 3.92500944e-01, 4.00671795e-01, 3.96387168e-01,\n",
       "         8.93001953e-02]]])"
      ]
     },
     "execution_count": 19,
     "metadata": {},
     "output_type": "execute_result"
    }
   ],
   "source": [
    "X_test\n"
   ]
  },
  {
   "cell_type": "code",
   "execution_count": 20,
   "metadata": {},
   "outputs": [
    {
     "data": {
      "text/plain": [
       "array([0.0021305 , 0.00203616, 0.00204755, ..., 0.40409094, 0.39555788,\n",
       "       0.39647944])"
      ]
     },
     "execution_count": 20,
     "metadata": {},
     "output_type": "execute_result"
    }
   ],
   "source": [
    "Y_test"
   ]
  },
  {
   "cell_type": "code",
   "execution_count": 21,
   "metadata": {},
   "outputs": [
    {
     "name": "stdout",
     "output_type": "stream",
     "text": [
      "64/64 [==============================] - 1s 18ms/step\n",
      "MSE: 0.1026\n",
      "RMSE: 0.3204\n"
     ]
    }
   ],
   "source": [
    "Y_pred = model.predict(X_test)\n",
    "mse = np.mean((Y_pred - Y_test)**2)\n",
    "print(\"MSE: %.4f\" % mse)\n",
    "rmse = np.sqrt(mse)\n",
    "print(\"RMSE: %.4f\" % rmse)"
   ]
  },
  {
   "cell_type": "code",
   "execution_count": 22,
   "metadata": {},
   "outputs": [
    {
     "data": {
      "image/png": "[encoded data removed]",
      "text/plain": [
       "<Figure size 1400x500 with 1 Axes>"
      ]
     },
     "metadata": {},
     "output_type": "display_data"
    }
   ],
   "source": [
    "plt.figure(figsize=(14,5))\n",
    "plt.plot(Y_test, color = 'red', label = 'Real Bitcoin Price')\n",
    "plt.plot(Y_pred, color = 'green', label = 'Predicted Bitcoin Price')\n",
    "plt.title('Bitcoin Price Prediction using RNN-LSTM')\n",
    "plt.xlabel('Time')\n",
    "plt.ylabel('Price')\n",
    "plt.legend()\n",
    "plt.show()"
   ]
  },
  {
   "cell_type": "code",
   "execution_count": 28,
   "metadata": {},
   "outputs": [],
   "source": [
    "Y_pred1 = scaler.inverse_transform(Y_pred.reshape(-1, 5))\n",
    "Y_test1 = scaler.inverse_transform(Y_test.reshape(-1, 5))"
   ]
  },
  {
   "cell_type": "code",
   "execution_count": 31,
   "metadata": {},
   "outputs": [
    {
     "name": "stdout",
     "output_type": "stream",
     "text": [
      "Test RMSE: 28506953.030\n"
     ]
    }
   ],
   "source": [
    "rmse_1 = sqrt(mean_squared_error( Y_pred1, Y_test1))\n",
    "print('Test RMSE: %.3f' % ((rmse_1)/100))"
   ]
  }
 ],
 "metadata": {
  "kernelspec": {
   "display_name": "Python 3",
   "language": "python",
   "name": "python3"
  },
  "language_info": {
   "codemirror_mode": {
    "name": "ipython",
    "version": 3
   },
   "file_extension": ".py",
   "mimetype": "text/x-python",
   "name": "python",
   "nbconvert_exporter": "python",
   "pygments_lexer": "ipython3",
   "version": "3.10.11"
  },
  "orig_nbformat": 4
 },
 "nbformat": 4,
 "nbformat_minor": 2
}
